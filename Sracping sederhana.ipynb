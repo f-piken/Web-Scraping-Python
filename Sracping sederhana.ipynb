{
  "nbformat": 4,
  "nbformat_minor": 0,
  "metadata": {
    "colab": {
      "provenance": []
    },
    "kernelspec": {
      "name": "python3",
      "display_name": "Python 3"
    },
    "language_info": {
      "name": "python"
    }
  },
  "cells": [
    {
      "cell_type": "code",
      "execution_count": null,
      "metadata": {
        "id": "XAY2xFBJUZqD"
      },
      "outputs": [],
      "source": [
        "import requests\n",
        "import pandas as pd\n",
        "from urllib.request import urlopen, Request\n",
        "from bs4 import BeautifulSoup"
      ]
    },
    {
      "cell_type": "code",
      "source": [
        "link = 'Link-kalian'\n",
        "request = requests.get(link)\n",
        "UserAgent = Request(link, headers = {'User-Agent': 'Mozilla/5.0'})\n",
        "html_text = urlopen(UserAgent)\n"
      ],
      "metadata": {
        "id": "XoH-F3kGUhRk"
      },
      "execution_count": null,
      "outputs": []
    },
    {
      "cell_type": "code",
      "source": [
        "soup = BeautifulSoup(html_text, \"html.parser\")"
      ],
      "metadata": {
        "id": "LjquyW-eUoK4"
      },
      "execution_count": null,
      "outputs": []
    },
    {
      "cell_type": "code",
      "source": [
        "daftar = soup.find_all(\"tag html\",{\"class\":\"class yang di tuju\"})"
      ],
      "metadata": {
        "id": "CkO0AJBQUo4g"
      },
      "execution_count": null,
      "outputs": []
    },
    {
      "cell_type": "code",
      "source": [
        "judul = [tag.find_previous('tag',{'class':'nama class'}).text.strip() if tag.find_previous('tag',{'class':'nama class'}) is not None else None for tag in daftar]\n",
        "tanggal = [tag.find_previous('tag',{'class':'nama class'}).text.strip() if tag.find_previous('tag',{'class':'nama class'}) is not None else None for tag in daftar]\n",
        "\n",
        "df = pd.DataFrame({\n",
        "        'Judul': judul,\n",
        "        'Tanggal': tanggal\n",
        "})\n",
        "\n",
        "print(df)"
      ],
      "metadata": {
        "colab": {
          "base_uri": "https://localhost:8080/"
        },
        "id": "02EOvppUU6i5",
        "outputId": "e9c23283-10e6-4d09-c541-f6149f3d0128"
      },
      "execution_count": null,
      "outputs": [
        {
          "output_type": "stream",
          "name": "stdout",
          "text": [
            "Empty DataFrame\n",
            "Columns: [Judul, Tanggal]\n",
            "Index: []\n"
          ]
        }
      ]
    },
    {
      "cell_type": "code",
      "source": [
        "df.to_excel('nama file.xlsx', index=False)"
      ],
      "metadata": {
        "id": "HYjCsLlXVZli"
      },
      "execution_count": null,
      "outputs": []
    }
  ]
}