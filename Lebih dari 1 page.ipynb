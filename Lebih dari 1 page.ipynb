{
  "nbformat": 4,
  "nbformat_minor": 0,
  "metadata": {
    "colab": {
      "provenance": []
    },
    "kernelspec": {
      "name": "python3",
      "display_name": "Python 3"
    },
    "language_info": {
      "name": "python"
    }
  },
  "cells": [
    {
      "cell_type": "code",
      "execution_count": null,
      "metadata": {
        "id": "gH3-9SQkrN_E"
      },
      "outputs": [],
      "source": [
        "import requests\n",
        "import pandas as pd\n",
        "from urllib.request import urlopen, Request\n",
        "from bs4 import BeautifulSoup"
      ]
    },
    {
      "cell_type": "code",
      "source": [
        "def scrape_page(url):\n",
        "\n",
        "    UserAgent = Request(url, headers={'User-Agent': 'Mozilla/5.0'})\n",
        "\n",
        "    try:\n",
        "        html_text = urlopen(UserAgent)\n",
        "    except Exception as e:\n",
        "        print(f\"An error occurred: {e}\")\n",
        "        return pd.DataFrame()\n",
        "\n",
        "    soup = BeautifulSoup(html_text, \"html.parser\")\n",
        "\n",
        "    daftar = soup.find_all('tag',{'class':'nama class'})\n",
        "\n",
        "    #class boleh di kosongi\n",
        "    judul = [tag.find_previous('tag',{'class':'nama class'}).text.strip() if tag.find_previous('tag') is not None else None for tag in daftar]\n",
        "    tanggal = [tag.find_previous('tag',{'class':'nama class'}).text.strip() if tag.find_previous('tag') is not None else None for tag in daftar]\n",
        "\n",
        "    return pd.DataFrame({\n",
        "        'Judul': judul,\n",
        "        'Tanggal': tanggal\n",
        "    })\n",
        "\n",
        "base_url = 'link tujuan'\n",
        "\n",
        "all_data = pd.DataFrame()\n",
        "\n",
        "page_number = 1\n",
        "\n",
        "while True:\n",
        "    print(f'Scraping page {page_number}...')\n",
        "    current_url = base_url.format(page_number)\n",
        "\n",
        "    # Scrape the current page\n",
        "    page_data = scrape_page(current_url)\n",
        "\n",
        "    # If no data is found, we have reached the last page\n",
        "    if page_data.empty:\n",
        "        break\n",
        "\n",
        "    # Append the data to the main DataFrame\n",
        "    all_data = pd.concat([all_data, page_data], ignore_index=True)\n",
        "\n",
        "    # Move to the next page\n",
        "    page_number += 1\n",
        "\n",
        "# Print the final DataFrame\n",
        "print(all_data)\n"
      ],
      "metadata": {
        "colab": {
          "base_uri": "https://localhost:8080/"
        },
        "id": "9sYcqEpBvOxC",
        "outputId": "ebef4b8b-33b6-48a9-d470-62b41c63aa80"
      },
      "execution_count": null,
      "outputs": [
        {
          "output_type": "stream",
          "name": "stdout",
          "text": [
            "Scraping page 1...\n",
            "Scraping page 2...\n",
            "Scraping page 3...\n",
            "Scraping page 4...\n",
            "Scraping page 5...\n",
            "Scraping page 6...\n",
            "An error occurred: HTTP Error 404: Not Found\n",
            "                                                Judul     Tanggal\n",
            "0                                                None        None\n",
            "1                   Perceraian Masih Tinggi, Mengapa?  23/04/2024\n",
            "2                  Judi Momok Perceraian Rumah Tangga  26/06/2024\n",
            "3         Transformasi Digital dan Ketahanan Keluarga  02/07/2024\n",
            "4   Ironi, Akibat Judol Hampir Tiap Bulan Ada Jand...  21/06/2024\n",
            "5   Gugat Cerai, Inilah Tuntutan Ruben Onsu Kepada...  12/06/2024\n",
            "6   Film Baru Johnny Depp Debutan Sutradara Terry ...  09/06/2024\n",
            "7   Tanpa Dasar Kuat, PN Malang Eksekusi Rumah Bos...  14/05/2024\n",
            "8                            Gaya Sosial Pada Era 5.0  06/05/2024\n",
            "9   The Architecture of Love Tayang Perdana, Warga...  01/05/2024\n",
            "10                                               None        None\n",
            "11             Hwang Jung Eum; Gugat Cerai Suami Lagi  01/03/2024\n",
            "12         Puluhan ASN Pemkab Malang Cerai Tanpa Izin  14/02/2024\n",
            "13  Cerita Dua Napi Hafal 15 Juz Alquran dari Dala...  15/12/2023\n",
            "14  Angelina Jolie Rindu Kehidupan Sederhana, Renc...  06/12/2023\n",
            "15  Launching e-Baperan, Permudah Administrasi Kep...  03/11/2023\n",
            "16       Kuatkan Peran Masjid Hadapi Masalah Keluarga  19/10/2023\n",
            "17                                Badai Belum Berlalu  08/10/2023\n",
            "18  170 Remaja Putri Nikah Dini, Butuh Sinergi OPD...  27/09/2023\n",
            "19                Bahagia, Akhirnya Miliki Buku Nikah  20/09/2023\n",
            "20                                               None        None\n",
            "21                                 Darurat Bunuh Diri  24/07/2023\n",
            "22             Pernikahan Anak Sumbang Kasus Stunting  03/06/2023\n",
            "23                 5 Fakta Tentang Multipel Sklerosis  25/05/2023\n",
            "24                 Setiap Hari Ada 30 Pengajuan Cerai  21/03/2023\n",
            "25                   Atasi Stunting, Tekan Nikah Dini  16/03/2023\n",
            "26             Perempuan Berdaya, Bahagia dan Merdeka  08/03/2023\n",
            "27  Pendidikan Seksual dan Reproduksi yang Remaja ...  03/03/2023\n",
            "28  Wabup Didik: Tingkatkan Sinergitas Tangani Stu...  04/02/2023\n",
            "29      Puluhan ASN Langgar Disiplin, 5 Diberhentikan  01/02/2023\n",
            "30                                               None        None\n",
            "31  Momentum Mensyiarkan Pemikiran KH. M. Hasyim A...  24/01/2023\n",
            "32  Larangan Menikahi Ibu Mertua, Meski Sudah Menj...  20/01/2023\n",
            "33           Korban KDRT Masih Didominasi Oleh Wanita  16/01/2023\n",
            "34                       Pernikahan Dini Masih Tinggi  10/12/2022\n",
            "35                      Musim Hujan, 2.329 Janda Baru  25/11/2022\n",
            "36   Memperkuat Lembaga Keluarga Kunci Negara Tangguh  11/11/2022\n",
            "37                 MENATA VISI DAN ORIENTASI KELUARGA  04/11/2022\n",
            "38       Protes Putusan Hak Asuh Anak ke Mantan Suami  22/10/2022\n",
            "39  Guru Pembimbing Siswa SMK PIM Dilatih Pahami P...  13/10/2022\n",
            "40                                               None        None\n",
            "41              Selingkuh Bikin Banyak Janda Baru PNS  01/10/2022\n",
            "42                       Wow! Banyak ASN Pemkab Cerai  30/09/2022\n",
            "43                    Delapan Bulan, 1.444 Janda Baru  22/09/2022\n",
            "44  Kakek Yudi Pilih Gua untuk Menetap dan Jalani ...  08/09/2022\n",
            "45             Enam Bulan, 3.437 Pasutri Ajukan Cerai  02/08/2022\n",
            "46                               Berteriak dalam Diam  02/08/2022\n",
            "47               Kasus Kekerasan Seksual Masih Tinggi  26/07/2022\n",
            "48  Kubu Valentina Meradang Gegara Eksekusi Pengos...  20/07/2022\n",
            "49                                             ALASAN  18/05/2022\n"
          ]
        }
      ]
    },
    {
      "cell_type": "code",
      "source": [
        "all_data.to_excel('nama file.xlsx', index=False)"
      ],
      "metadata": {
        "id": "38P-itTD-1sb"
      },
      "execution_count": null,
      "outputs": []
    }
  ]
}